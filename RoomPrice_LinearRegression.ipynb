{
  "nbformat": 4,
  "nbformat_minor": 0,
  "metadata": {
    "colab": {
      "name": "RoomPrice_LinearRegression.ipynb",
      "provenance": [],
      "collapsed_sections": []
    },
    "kernelspec": {
      "name": "python3",
      "display_name": "Python 3"
    },
    "language_info": {
      "name": "python"
    }
  },
  "cells": [
    {
      "cell_type": "markdown",
      "source": [
        "\n",
        "\n",
        "---\n",
        "\n",
        "\n",
        "**การนำเข้าข้อมูล**\n",
        "\n",
        "\n",
        "---\n",
        "ใช้ข้อมูลจากไฟล์ .csv เก็บเป็น DataFrame\n",
        "\n"
      ],
      "metadata": {
        "id": "NbKWuSdX0UJD"
      }
    },
    {
      "cell_type": "code",
      "execution_count": 23,
      "metadata": {
        "id": "LOc7kgASsva-"
      },
      "outputs": [],
      "source": [
        "import numpy as np\n",
        "import pandas as pd\n",
        "data = pd.read_csv(\"price.csv\")"
      ]
    },
    {
      "cell_type": "markdown",
      "source": [
        "แสดงข้อมูลที่อ่านได้\n"
      ],
      "metadata": {
        "id": "m2Ljz4Jo1RsF"
      }
    },
    {
      "cell_type": "code",
      "source": [
        "print(data)"
      ],
      "metadata": {
        "colab": {
          "base_uri": "https://localhost:8080/"
        },
        "id": "kJHOY-Sq1zJl",
        "outputId": "cf16a175-0c77-49ce-fbc0-14ced686a845"
      },
      "execution_count": 24,
      "outputs": [
        {
          "output_type": "stream",
          "name": "stdout",
          "text": [
            "     a     b\n",
            "0   47  3975\n",
            "1   42  3930\n",
            "2   31  1856\n",
            "3   34  3017\n",
            "4   60  4178\n",
            "5   42  3891\n",
            "6   52  3885\n",
            "7   52  3988\n",
            "8   47  4024\n",
            "9   50  3921\n",
            "10  38  3560\n",
            "11  44  3878\n",
            "12  50  3791\n",
            "13  47  3918\n",
            "14  48  3939\n",
            "15  38  3565\n",
            "16  53  3970\n",
            "17  48  3905\n",
            "18  59  4130\n",
            "19  39  2930\n"
          ]
        }
      ]
    },
    {
      "cell_type": "markdown",
      "source": [
        "**เก็บข้อมูลไว้ในตัวแปร :**\n",
        "\n",
        "*   x = พื้นที่ห้อง\n",
        "*   y = ราคา\n"
      ],
      "metadata": {
        "id": "36246jz42CdZ"
      }
    },
    {
      "cell_type": "code",
      "source": [
        "x= np.array(data[\"a\"])\n",
        "y= np.array(data[\"b\"])"
      ],
      "metadata": {
        "id": "dhz-NIlyuixz"
      },
      "execution_count": 25,
      "outputs": []
    },
    {
      "cell_type": "markdown",
      "source": [
        "**แสดงข้อมูลพื้นที่**"
      ],
      "metadata": {
        "id": "eu9nGr3Y2YQg"
      }
    },
    {
      "cell_type": "code",
      "source": [
        "print (x)"
      ],
      "metadata": {
        "colab": {
          "base_uri": "https://localhost:8080/"
        },
        "id": "AhsqY47g2bA2",
        "outputId": "93427d81-1a46-458f-f0a0-7548ec79e7d4"
      },
      "execution_count": 26,
      "outputs": [
        {
          "output_type": "stream",
          "name": "stdout",
          "text": [
            "[47 42 31 34 60 42 52 52 47 50 38 44 50 47 48 38 53 48 59 39]\n"
          ]
        }
      ]
    },
    {
      "cell_type": "markdown",
      "source": [
        "**ปรับขนาดของข้อมูล**\n",
        "> หลังจากนั้นตรวจสอบข้อมูลที่ปรับขนาดแล้ว"
      ],
      "metadata": {
        "id": "S88U89NA2fqI"
      }
    },
    {
      "cell_type": "code",
      "source": [
        "x = x.reshape(-1, 1)\n",
        "print (x)"
      ],
      "metadata": {
        "colab": {
          "base_uri": "https://localhost:8080/"
        },
        "id": "sGbo2t_ITHT4",
        "outputId": "67636b8b-172e-4511-d7e8-b183fbc0c433"
      },
      "execution_count": 27,
      "outputs": [
        {
          "output_type": "stream",
          "name": "stdout",
          "text": [
            "[[47]\n",
            " [42]\n",
            " [31]\n",
            " [34]\n",
            " [60]\n",
            " [42]\n",
            " [52]\n",
            " [52]\n",
            " [47]\n",
            " [50]\n",
            " [38]\n",
            " [44]\n",
            " [50]\n",
            " [47]\n",
            " [48]\n",
            " [38]\n",
            " [53]\n",
            " [48]\n",
            " [59]\n",
            " [39]]\n"
          ]
        }
      ]
    },
    {
      "cell_type": "markdown",
      "source": [
        "**สร้างกราฟจากข้อมูล**\n",
        "\n",
        "\n",
        "> plt.scatter คือ คำสั่งในการสร้างกราฟจุด\n",
        "\n",
        "> marker = '+' สามารถเปลี่ยนอักขระได้ ตรวจสอบอักขระที่เปลี่ยนได้ที่ [matplotlib.markers](https://matplotlib.org/stable/api/markers_api.html)\n",
        "\n",
        "\n"
      ],
      "metadata": {
        "id": "J8H1itvp22A2"
      }
    },
    {
      "cell_type": "code",
      "source": [
        "import matplotlib.pyplot as plt\n",
        "plt.scatter(x, y, s = 80, marker='+')\n",
        "plt.show()"
      ],
      "metadata": {
        "colab": {
          "base_uri": "https://localhost:8080/",
          "height": 265
        },
        "id": "Y7fRu87Rv-po",
        "outputId": "57095444-53b3-47e5-f2c7-1edead48531c"
      },
      "execution_count": 28,
      "outputs": [
        {
          "output_type": "display_data",
          "data": {
            "text/plain": [
              "<Figure size 432x288 with 1 Axes>"
            ],
            "image/png": "[encoded data removed]"
          },
          "metadata": {
            "needs_background": "light"
          }
        }
      ]
    },
    {
      "cell_type": "markdown",
      "source": [
        "\n",
        "\n",
        "---\n",
        "**เริ่ม Train โมเดล**\n",
        "\n",
        "\n",
        "---\n",
        "โดยใช้เครื่องมือจากไลบรารี sklearn\n",
        "\n",
        "*   เรียกใช้งาน LinearRegression จาก sklearn.linear_model\n",
        "*   Normalize คือ การลดข้อมูลที่ซ้ำซ้อน\n",
        "\n",
        "*   ใช้ LinearRegression เทรนโมเดล\n",
        "\n",
        "\n",
        "\n",
        "\n",
        "\n",
        "\n",
        "\n",
        "\n",
        "\n"
      ],
      "metadata": {
        "id": "apjTCkfe3t-S"
      }
    },
    {
      "cell_type": "code",
      "source": [
        "from sklearn.linear_model import LinearRegression\n",
        "LR = LinearRegression(normalize=True)\n",
        "LR.fit(x, y)"
      ],
      "metadata": {
        "id": "nmCpBcGIwC26",
        "colab": {
          "base_uri": "https://localhost:8080/"
        },
        "outputId": "1076bc35-92c1-4745-da61-0ff8a70c7259"
      },
      "execution_count": 31,
      "outputs": [
        {
          "output_type": "stream",
          "name": "stderr",
          "text": [
            "/usr/local/lib/python3.7/dist-packages/sklearn/linear_model/_base.py:145: FutureWarning: 'normalize' was deprecated in version 1.0 and will be removed in 1.2.\n",
            "If you wish to scale the data, use Pipeline with a StandardScaler in a preprocessing stage. To reproduce the previous behavior:\n",
            "\n",
            "from sklearn.pipeline import make_pipeline\n",
            "\n",
            "model = make_pipeline(StandardScaler(with_mean=False), LinearRegression())\n",
            "\n",
            "If you wish to pass a sample_weight parameter, you need to pass it as a fit parameter to each step of the pipeline as follows:\n",
            "\n",
            "kwargs = {s[0] + '__sample_weight': sample_weight for s in model.steps}\n",
            "model.fit(X, y, **kwargs)\n",
            "\n",
            "\n",
            "  FutureWarning,\n"
          ]
        },
        {
          "output_type": "execute_result",
          "data": {
            "text/plain": [
              "LinearRegression(normalize=True)"
            ]
          },
          "metadata": {},
          "execution_count": 31
        }
      ]
    },
    {
      "cell_type": "markdown",
      "source": [
        "\n",
        "---\n",
        "**วัดประสิทธิภาพโมเดล**\n",
        "\n",
        "---\n",
        "\n",
        "กำหนดให้ค่าที่ทำนายได้เก็บไว้ในตัวแปร y_pred\n"
      ],
      "metadata": {
        "id": "1ppzmXO745zg"
      }
    },
    {
      "cell_type": "code",
      "source": [
        "y_pred = LR.predict(x)"
      ],
      "metadata": {
        "id": "qEIuZbyPxtag"
      },
      "execution_count": 35,
      "outputs": []
    },
    {
      "cell_type": "markdown",
      "source": [
        "**วัดจากค่า Root Mean Square Error**"
      ],
      "metadata": {
        "id": "w0WyPVpS-1Ek"
      }
    },
    {
      "cell_type": "code",
      "source": [
        "from sklearn.metrics import mean_squared_error\n",
        "rmse = np.sqrt(mean_squared_error(y, y_pred))\n",
        "print ('RMSE (Root Mean Squared Error) = ', rmse)"
      ],
      "metadata": {
        "colab": {
          "base_uri": "https://localhost:8080/"
        },
        "id": "RhCrEUP25-ZU",
        "outputId": "c16d367a-e91e-49b6-fbdc-5d1f9b921c2a"
      },
      "execution_count": 33,
      "outputs": [
        {
          "output_type": "stream",
          "name": "stdout",
          "text": [
            "RMSE (Root Mean Squared Error) =  332.7662119033552\n"
          ]
        }
      ]
    },
    {
      "cell_type": "markdown",
      "source": [
        "**วัดจากค่า R Square**"
      ],
      "metadata": {
        "id": "ir8N-aIj_I0O"
      }
    },
    {
      "cell_type": "code",
      "source": [
        "from sklearn.metrics import r2_score\n",
        "r2 = r2_score(y, y_pred)\n",
        "print ('R2 = ', r2)"
      ],
      "metadata": {
        "colab": {
          "base_uri": "https://localhost:8080/"
        },
        "id": "1OipjQze6ER1",
        "outputId": "538427e8-a57f-407f-c830-588c2426bdc2"
      },
      "execution_count": 34,
      "outputs": [
        {
          "output_type": "stream",
          "name": "stdout",
          "text": [
            "R2 =  0.6047574272689302\n"
          ]
        }
      ]
    },
    {
      "cell_type": "markdown",
      "source": [
        "**แสดงกราฟเปรียบเทียบข้อมูลและผลลัพธ์ที่ทำนายได้**"
      ],
      "metadata": {
        "id": "098QL73w_wex"
      }
    },
    {
      "cell_type": "code",
      "source": [
        "# Plot ข้อมูล (x,y) \n",
        "plt.scatter(x, y, s = 80, marker = '+', label = 'Data')\n",
        "\n",
        "# Plot Linear Regression Model (x,y_pred)\n",
        "plt.plot(x, y_pred, linewidth = 4, color = 'r', label = 'Linear Regression Model')\n",
        "plt.legend(loc='lower right')\n",
        "plt.show()"
      ],
      "metadata": {
        "colab": {
          "base_uri": "https://localhost:8080/",
          "height": 265
        },
        "id": "l22pX57Xx3Qe",
        "outputId": "a4826f74-67f9-432c-cbc8-179f6939f4e9"
      },
      "execution_count": null,
      "outputs": [
        {
          "output_type": "display_data",
          "data": {
            "text/plain": [
              "<Figure size 432x288 with 1 Axes>"
            ],
            "image/png": "[encoded data removed]"
          },
          "metadata": {
            "needs_background": "light"
          }
        }
      ]
    },
    {
      "cell_type": "markdown",
      "source": [
        "---\n",
        "**ทำนายราคา**\n",
        "\n",
        "---\n"
      ],
      "metadata": {
        "id": "riiK8O26Af6h"
      }
    },
    {
      "cell_type": "code",
      "source": [
        "LR.predict([[63]])"
      ],
      "metadata": {
        "id": "KuDPIDSJx6iv",
        "outputId": "c8a28d2a-57d9-4f6a-9760-6cf24c73e4b2",
        "colab": {
          "base_uri": "https://localhost:8080/"
        }
      },
      "execution_count": null,
      "outputs": [
        {
          "output_type": "execute_result",
          "data": {
            "text/plain": [
              "array([4648.67838337])"
            ]
          },
          "metadata": {},
          "execution_count": 14
        }
      ]
    }
  ]
}